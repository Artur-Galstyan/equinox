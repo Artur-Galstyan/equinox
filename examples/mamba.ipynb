{
 "cells": [
  {
   "cell_type": "markdown",
   "id": "f0591c0a-21c6-4ff4-b99f-4628dcc076df",
   "metadata": {},
   "source": [
    "# Mamba\n",
    "\n",
    "In this example, we will implement the new Mamba model from Albert Gu and Tri Dao [[1]](https://arxiv.org/abs/2312.00752) by utilising the new `SelectiveStateSpaceModel` layer. \n",
    "\n",
    "In this example, you will learn the following:\n",
    "\n",
    "    - how to implement Mamba\n",
    "    - how to use a shared layer\n",
    "\n",
    "Special thanks and cretits go to John (Zhiyao) Ma and his excellent Mamba implementation in PyTorch, which served as a great inspriration and foundation for this Equinox version. Go check it out [here](https://github.com/johnma2006/mamba-minimal).\n",
    "\n",
    "The original implementation includes **a lot** of CUDA code [[2]](https://github.com/state-spaces/mamba) to optimise the so-called `selective_scan` algorithm, but this first iteration of the `SelectiveStateSpaceModel` implementation is not as heavily optimised. However, in future iterations, by using some clever Pallas code, we can get to the same performance. "
   ]
  },
  {
   "cell_type": "markdown",
   "id": "b418d2b9-80f8-4048-9b8b-d8e958035705",
   "metadata": {},
   "source": [
    "The following image shows the high level architecture of Mamba which we will implement."
   ]
  },
  {
   "cell_type": "markdown",
   "id": "660315df-3e77-4e3c-a793-c153840f094c",
   "metadata": {},
   "source": [
    "<div style=\"display: flex; justify-content: center; margin-left: auto; width: 100%\">\n",
    "    <img src=\"../imgs/Mamba1.drawio.svg\" width=\"30%\">\n",
    "</div>"
   ]
  },
  {
   "cell_type": "markdown",
   "id": "b9a8ed93-4946-4758-a228-cc39326b8c9d",
   "metadata": {},
   "source": [
    "Before dive into the `ResidualBlock` part, which contains the main `SelectiveStateSpaceModel` code, let's quickly build everything around it first. Also note that the weights of the embedding layer and the final linear layer are shared! This is not a problem though, because we can use `eqx.nn.Shared` to implement this."
   ]
  },
  {
   "cell_type": "code",
   "execution_count": 2,
   "id": "ab229dca-2c2a-46ee-8f24-eedce5c06e18",
   "metadata": {},
   "outputs": [],
   "source": [
    "import equinox as eqx\n",
    "import jax\n",
    "from jaxtyping import Array, Float, Int, PRNGKeyArray"
   ]
  },
  {
   "cell_type": "code",
   "execution_count": 4,
   "id": "dae7f1eb-ad21-4e6f-a6a1-352eea03d414",
   "metadata": {},
   "outputs": [
    {
     "ename": "AttributeError",
     "evalue": "module 'equinox.nn' has no attribute 'RMSNorm'",
     "output_type": "error",
     "traceback": [
      "\u001b[0;31m---------------------------------------------------------------------------\u001b[0m",
      "\u001b[0;31mAttributeError\u001b[0m                            Traceback (most recent call last)",
      "Cell \u001b[0;32mIn[4], line 1\u001b[0m\n\u001b[0;32m----> 1\u001b[0m \u001b[38;5;28;43;01mclass\u001b[39;49;00m\u001b[43m \u001b[49m\u001b[38;5;21;43;01mMamba\u001b[39;49;00m\u001b[43m(\u001b[49m\u001b[43meqx\u001b[49m\u001b[38;5;241;43m.\u001b[39;49m\u001b[43mModule\u001b[49m\u001b[43m,\u001b[49m\u001b[43m \u001b[49m\u001b[43mstrict\u001b[49m\u001b[38;5;241;43m=\u001b[39;49m\u001b[38;5;28;43;01mTrue\u001b[39;49;00m\u001b[43m)\u001b[49m\u001b[43m:\u001b[49m\n\u001b[1;32m      2\u001b[0m \u001b[43m    \u001b[49m\u001b[43mlayers\u001b[49m\u001b[43m:\u001b[49m\u001b[43m \u001b[49m\u001b[43meqx\u001b[49m\u001b[38;5;241;43m.\u001b[39;49m\u001b[43mnn\u001b[49m\u001b[38;5;241;43m.\u001b[39;49m\u001b[43mSequential\u001b[49m\n\u001b[1;32m      3\u001b[0m \u001b[43m    \u001b[49m\u001b[43mnormalization\u001b[49m\u001b[43m:\u001b[49m\u001b[43m \u001b[49m\u001b[43meqx\u001b[49m\u001b[38;5;241;43m.\u001b[39;49m\u001b[43mnn\u001b[49m\u001b[38;5;241;43m.\u001b[39;49m\u001b[43mRMSNorm\u001b[49m\n",
      "Cell \u001b[0;32mIn[4], line 3\u001b[0m, in \u001b[0;36mMamba\u001b[0;34m()\u001b[0m\n\u001b[1;32m      1\u001b[0m \u001b[38;5;28;01mclass\u001b[39;00m \u001b[38;5;21;01mMamba\u001b[39;00m(eqx\u001b[38;5;241m.\u001b[39mModule, strict\u001b[38;5;241m=\u001b[39m\u001b[38;5;28;01mTrue\u001b[39;00m):\n\u001b[1;32m      2\u001b[0m     layers: eqx\u001b[38;5;241m.\u001b[39mnn\u001b[38;5;241m.\u001b[39mSequential\n\u001b[0;32m----> 3\u001b[0m     normalization: \u001b[43meqx\u001b[49m\u001b[38;5;241;43m.\u001b[39;49m\u001b[43mnn\u001b[49m\u001b[38;5;241;43m.\u001b[39;49m\u001b[43mRMSNorm\u001b[49m\n\u001b[1;32m      4\u001b[0m     shared_emb_lm_head: eqx\u001b[38;5;241m.\u001b[39mnn\u001b[38;5;241m.\u001b[39mShared\n\u001b[1;32m      6\u001b[0m     \u001b[38;5;28;01mdef\u001b[39;00m \u001b[38;5;21m__init__\u001b[39m(\u001b[38;5;28mself\u001b[39m, n_layers: \u001b[38;5;28mint\u001b[39m, n_dims: \u001b[38;5;28mint\u001b[39m, n_embd: \u001b[38;5;28mint\u001b[39m, \u001b[38;5;241m*\u001b[39m, key: PRNGKeyArray):\n",
      "\u001b[0;31mAttributeError\u001b[0m: module 'equinox.nn' has no attribute 'RMSNorm'"
     ]
    }
   ],
   "source": [
    "class Mamba(eqx.Module, strict=True):\n",
    "    layers: eqx.nn.Sequential\n",
    "    normalization: eqx.nn.RMSNorm\n",
    "    shared_emb_lm_head: eqx.nn.Shared\n",
    "\n",
    "    def __init__(self, n_layers: int, n_dims: int, n_embd: int, *, key: PRNGKeyArray):\n",
    "        key, *subkeys = jax.random.split(key, 1 + n_layers)\n",
    "        self.layers = eqx.nn.Sequential(\n",
    "            [ResidualBlock(key=subkeys[i + 1]) for i in range(n_layers)],\n",
    "        )\n",
    "        self.normalization = eqx.nn.RMSNorm(n_embd)\n",
    "\n",
    "        embedding = eqx.nn.Embedding(n_dims, n_embd, key=subkeys[0])\n",
    "        lm_head = eqx.nn.Linear(\n",
    "            n_embd,\n",
    "            n_dims,\n",
    "            use_bias=False,\n",
    "            key=subkeys[-1],\n",
    "        )\n",
    "        where = lambda embed_and_lin: embed_and_lin[1].weight\n",
    "        get = lambda embed_and_lin: embed_and_lin[0].weight\n",
    "        self.shared_emb_lm_head = eqx.nn.Shared(\n",
    "            (embedding, lm_head), where=where, get=get\n",
    "        )\n",
    "\n",
    "    def __call__(\n",
    "        self,\n",
    "        x: Int[Array, \"seq_len\"],  # noqa\n",
    "        *,\n",
    "        key: PRNGKeyArray = None,\n",
    "    ) -> Float[Array, \"seq_len n_dims\"]:  # noqa\n",
    "        embedding, linear = self.shared_emb_lm_head()\n",
    "        x = jax.vmap(embedding)(x)\n",
    "\n",
    "        x = self.layers(x)\n",
    "        x = jax.vmap(self.normalization)(x)\n",
    "        logits = jax.vmap(linear)(x)\n",
    "        return logits"
   ]
  },
  {
   "cell_type": "markdown",
   "id": "d557fa4a-1fa4-4e72-ba77-d0ef7f946cdf",
   "metadata": {},
   "source": [
    "We haven't implementated `ResidualBlock` yet, but we will get there soon. Note the usage of `eqx.nn.Shared`:\n",
    "\n",
    "```python\n",
    "    # Embedding layer\n",
    "    embedding = eqx.nn.Embedding(\n",
    "        n_dims, n_embd, key=subkeys[0]\n",
    "    )\n",
    "    # Linear layer\n",
    "    lm_head = eqx.nn.Linear(\n",
    "        n_embd,\n",
    "        n_dims,\n",
    "        use_bias=False,\n",
    "        key=subkeys[-1],\n",
    "    )\n",
    "    # refers to the linear weights\n",
    "    where = lambda embed_and_lin: embed_and_lin[1].weight \n",
    "\n",
    "    # refers to the embedding weights\n",
    "    get = lambda embed_and_lin: embed_and_lin[0].weight\n",
    "\n",
    "    # Create a shared layer\n",
    "    self.shared_emb_lm_head = eqx.nn.Shared(\n",
    "        (embedding, lm_head), where=where, get=get\n",
    "    )\n",
    "```\n",
    "\n",
    "And to use the shared layers, we have to get them first out of the shared layer:\n",
    "\n",
    "```python\n",
    "    embedding, linear = self.shared_emb_lm_head()\n",
    "    # embedding and linear are eqx.nn.Embedding and eqx.nn.Linear respectively\n",
    "    # proceed usage as usual\n",
    "```\n",
    "\n",
    "Let's continue with the `ResidualBlock`."
   ]
  },
  {
   "cell_type": "code",
   "execution_count": null,
   "id": "d1ed52a9-abea-43e8-822a-9d75ac8ae480",
   "metadata": {},
   "outputs": [],
   "source": [
    "class ResidualBlock(eqx.Module):\n",
    "    pass"
   ]
  },
  {
   "cell_type": "code",
   "execution_count": null,
   "id": "8aa05c2c-d8d0-484f-9d29-430b41bf4181",
   "metadata": {},
   "outputs": [],
   "source": []
  }
 ],
 "metadata": {
  "kernelspec": {
   "display_name": "Python 3 (ipykernel)",
   "language": "python",
   "name": "python3"
  },
  "language_info": {
   "codemirror_mode": {
    "name": "ipython",
    "version": 3
   },
   "file_extension": ".py",
   "mimetype": "text/x-python",
   "name": "python",
   "nbconvert_exporter": "python",
   "pygments_lexer": "ipython3",
   "version": "3.11.6"
  }
 },
 "nbformat": 4,
 "nbformat_minor": 5
}
